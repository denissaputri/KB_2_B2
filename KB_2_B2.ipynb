{
 "cells": [
  {
   "cell_type": "markdown",
   "id": "96bad58a",
   "metadata": {},
   "source": [
    "# KLASIFIKASI GAMBAR BURUNG"
   ]
  },
  {
   "cell_type": "markdown",
   "id": "fb495645",
   "metadata": {},
   "source": [
    "#### Kelompok 2 B2 2020 \n",
    "<li> dataset : "
   ]
  },
  {
   "cell_type": "code",
   "execution_count": null,
   "id": "27fa862d",
   "metadata": {},
   "outputs": [],
   "source": [
    "import os \n",
    "import shutil \n",
    "import re\n",
    "import random \n",
    "import tensorflow \n",
    "import keras  \n",
    "import glob \n",
    "from skimage import io\n",
    "import numpy as np\n",
    "import matplotlib.pyplot as plt  \n",
    "%matplotlib inline\n",
    "\n",
    "import tensorflow as tf\n",
    "import matplotlib.pyplot as plt\n",
    "from keras_preprocessing.image import ImageDataGenerator"
   ]
  },
  {
   "cell_type": "code",
   "execution_count": null,
   "id": "34897b45",
   "metadata": {},
   "outputs": [],
   "source": [
    "root_path = r'D:\\SEMESTER 5\\KB_2_B2\\dataset'\n",
    "source_path = os.path.join(root_path,'data gambar') #tempat dataset disimpan\n",
    "destination_path = os.path.join(root_path, 'data gambar fix')\n",
    "class_aves =['Order Anseriformes','Order Apodiformes', 'Order Apterygiformes']"
   ]
  },
  {
   "cell_type": "code",
   "execution_count": null,
   "id": "40f66603",
   "metadata": {},
   "outputs": [],
   "source": [
    "#melihat banyak data gambar dlm folder\n",
    "folders = {}\n",
    "\n",
    "for folder in os.listdir(source_path):\n",
    "    folders[folder] = len(os.listdir(os.path.join(source_path,  folder)))\n",
    "\n",
    "folders"
   ]
  },
  {
   "cell_type": "code",
   "execution_count": null,
   "id": "85b03db5",
   "metadata": {},
   "outputs": [],
   "source": [
    "if os.path.isdir(os.path.join(destination_path, 'data_training')):\n",
    "    print(f\"path {os.path.join(destination_path, 'data_training')} sudah ada\")\n",
    "else:\n",
    "    os.makedirs(os.path.join(destination_path, 'data_training'))\n",
    "    for folder in folders.keys():\n",
    "        os.makedirs(os.path.join(destination_path, f'data_training/{folder}'))\n",
    "\n",
    "if os.path.isdir(os.path.join(destination_path, 'data_testing')):\n",
    "    print(f\"path {os.path.join(destination_path, 'data_testing')} sudah ada\")\n",
    "else:\n",
    "    os.makedirs(os.path.join(destination_path, 'data_testing'))\n",
    "    for folder in folders.keys():\n",
    "        os.makedirs(os.path.join(destination_path, f'data_testing/{folder}'))"
   ]
  },
  {
   "cell_type": "code",
   "execution_count": null,
   "id": "85563f83",
   "metadata": {},
   "outputs": [],
   "source": [
    "aves_path = os.path.join(source_path,class_aves[1],'*')\n",
    "aves_path = glob.glob(aves_path)"
   ]
  },
  {
   "cell_type": "code",
   "execution_count": null,
   "id": "4329ccb9",
   "metadata": {},
   "outputs": [],
   "source": [
    "# #Menampilkan gambar dari dataset\n",
    "# image = io.imread(aves_path[2])  \n",
    "\n",
    "# #memplot gambar original\n",
    "# i, (im1) = plt.subplots(1)\n",
    "# i.set_figwidth(15)\n",
    "# im1.imshow(image)"
   ]
  },
  {
   "cell_type": "code",
   "execution_count": null,
   "id": "a5f557ab",
   "metadata": {},
   "outputs": [],
   "source": [
    "files_name = {\n",
    "     'Order Anseriformes': [],\n",
    "     'Order Apodiformes': [],\n",
    "     'Order Apterygiformes': [],\n",
    "     'Order Caprimulgiformes': [],\n",
    "     'Order Casuariiformes': [],\n",
    "     'Order Charadriiformes': [],\n",
    "     'Order Ciconiiformes': [],\n",
    "     'Order Coliiformes': [],\n",
    "     'Order Columbiformes': [],\n",
    "     'Order Coraciiformes': [],\n",
    "     'Order Cuculiformes': [],\n",
    "     'Order Falconiformes': [],\n",
    "     'Order Galliformes': [],\n",
    "     'Order Gaviiformes': [],\n",
    "     'Order Gruiformes': [],\n",
    "     'Order Passeriformes': [],\n",
    "     'Order Pelecaniformes': [],\n",
    "     'Order Phoenicopteriformes': [],\n",
    "     'Order Piciformes': [],\n",
    "     'Order Podicipediformes': [],\n",
    "     'Order Procellariiformes': [],\n",
    "     'Order Psittaciformes': [],\n",
    "     'Order Pteroclidiformes': [],\n",
    "     'Order Rheiformes': [],\n",
    "     'Order Sphenisciformes': [],\n",
    "     'Order Strigiformes': [],\n",
    "     'Order Struthioniformes': [],\n",
    "     'Order Tinamiformes': [],\n",
    "     'Order Trogoniformes': [],\n",
    "     'Order Turniciformes': [],\n",
    "}\n",
    "\n",
    "files_train = {\n",
    "        'Order Anseriformes': [],\n",
    "     'Order Apodiformes': [],\n",
    "     'Order Apterygiformes': [],\n",
    "     'Order Caprimulgiformes': [],\n",
    "     'Order Casuariiformes': [],\n",
    "     'Order Charadriiformes': [],\n",
    "     'Order Ciconiiformes': [],\n",
    "     'Order Coliiformes': [],\n",
    "     'Order Columbiformes': [],\n",
    "     'Order Coraciiformes': [],\n",
    "     'Order Cuculiformes': [],\n",
    "     'Order Falconiformes': [],\n",
    "     'Order Galliformes': [],\n",
    "     'Order Gaviiformes': [],\n",
    "     'Order Gruiformes': [],\n",
    "     'Order Passeriformes': [],\n",
    "     'Order Pelecaniformes': [],\n",
    "     'Order Phoenicopteriformes': [],\n",
    "     'Order Piciformes': [],\n",
    "     'Order Podicipediformes': [],\n",
    "     'Order Procellariiformes': [],\n",
    "     'Order Psittaciformes': [],\n",
    "     'Order Pteroclidiformes': [],\n",
    "     'Order Rheiformes': [],\n",
    "     'Order Sphenisciformes': [],\n",
    "     'Order Strigiformes': [],\n",
    "     'Order Struthioniformes': [],\n",
    "     'Order Tinamiformes': [],\n",
    "     'Order Trogoniformes': [],\n",
    "     'Order Turniciformes': [],\n",
    "}\n",
    "\n",
    "files_test = {\n",
    "     'Order Anseriformes': [],\n",
    "     'Order Apodiformes': [],\n",
    "     'Order Apterygiformes': [],\n",
    "     'Order Caprimulgiformes': [],\n",
    "     'Order Casuariiformes': [],\n",
    "     'Order Charadriiformes': [],\n",
    "     'Order Ciconiiformes': [],\n",
    "     'Order Coliiformes': [],\n",
    "     'Order Columbiformes': [],\n",
    "     'Order Coraciiformes': [],\n",
    "     'Order Cuculiformes': [],\n",
    "     'Order Falconiformes': [],\n",
    "     'Order Galliformes': [],\n",
    "     'Order Gaviiformes': [],\n",
    "     'Order Gruiformes': [],\n",
    "     'Order Passeriformes': [],\n",
    "     'Order Pelecaniformes': [],\n",
    "     'Order Phoenicopteriformes': [],\n",
    "     'Order Piciformes': [],\n",
    "     'Order Podicipediformes': [],\n",
    "     'Order Procellariiformes': [],\n",
    "     'Order Psittaciformes': [],\n",
    "     'Order Pteroclidiformes': [],\n",
    "     'Order Rheiformes': [],\n",
    "     'Order Sphenisciformes': [],\n",
    "     'Order Strigiformes': [],\n",
    "     'Order Struthioniformes': [],\n",
    "     'Order Tinamiformes': [],\n",
    "     'Order Trogoniformes': [],\n",
    "     'Order Turniciformes': [],\n",
    "}"
   ]
  },
  {
   "cell_type": "code",
   "execution_count": null,
   "id": "ae466c22",
   "metadata": {},
   "outputs": [],
   "source": [
    "for type in files_name.keys():\n",
    "    for file in os.listdir(os.path.join(source_path, type)):\n",
    "        if os.path.getsize(os.path.join(source_path, f'{type}/{file}')):\n",
    "            files_name[type].append(file)\n",
    "        else:\n",
    "            print(f'{file} dilewatkan')"
   ]
  },
  {
   "cell_type": "code",
   "execution_count": null,
   "id": "a84cd35f",
   "metadata": {},
   "outputs": [],
   "source": [
    "#test melihat panjang sebuah folder \n",
    "len(files_name['Order Turniciformes'])"
   ]
  },
  {
   "cell_type": "code",
   "execution_count": null,
   "id": "5950bbe0",
   "metadata": {},
   "outputs": [],
   "source": [
    "split_point = {\n",
    "     'Order Anseriformes': 0,\n",
    "     'Order Apodiformes': 0,\n",
    "     'Order Apterygiformes': 0,\n",
    "     'Order Caprimulgiformes': 0,\n",
    "     'Order Casuariiformes': 0,\n",
    "     'Order Charadriiformes': 0,\n",
    "     'Order Ciconiiformes': 0,\n",
    "     'Order Coliiformes': 0,\n",
    "     'Order Columbiformes': 0,\n",
    "     'Order Coraciiformes': 0,\n",
    "     'Order Cuculiformes': 0,\n",
    "     'Order Falconiformes': 0,\n",
    "     'Order Galliformes': 0,\n",
    "     'Order Gaviiformes': 0,\n",
    "     'Order Gruiformes': 0,\n",
    "     'Order Passeriformes': 0,\n",
    "     'Order Pelecaniformes': 0,\n",
    "     'Order Phoenicopteriformes': 0,\n",
    "     'Order Piciformes': 0,\n",
    "     'Order Podicipediformes': 0,\n",
    "     'Order Procellariiformes': 0,\n",
    "     'Order Psittaciformes': 0,\n",
    "     'Order Pteroclidiformes': 0,\n",
    "     'Order Rheiformes': 0,\n",
    "     'Order Sphenisciformes': 0,\n",
    "     'Order Strigiformes': 0,\n",
    "     'Order Struthioniformes': 0,\n",
    "     'Order Tinamiformes': 0,\n",
    "     'Order Trogoniformes': 0,\n",
    "     'Order Turniciformes': 0,\n",
    "}\n",
    "\n",
    "for key in split_point.keys():\n",
    "    split_point[key] = int(len(files_name[key])*.8)\n",
    "\n",
    "for key in files_train.keys():\n",
    "    files_train[key].append(files_name[key][:split_point[key]])\n",
    "    files_test[key].append(files_name[key][split_point[key]:])\n"
   ]
  },
  {
   "cell_type": "code",
   "execution_count": null,
   "id": "b0436002",
   "metadata": {},
   "outputs": [],
   "source": [
    "len(files_train['Order Anseriformes'][0])"
   ]
  },
  {
   "cell_type": "code",
   "execution_count": null,
   "id": "846ac77e",
   "metadata": {},
   "outputs": [],
   "source": [
    "len(files_test['Order Anseriformes'][0])"
   ]
  },
  {
   "cell_type": "code",
   "execution_count": null,
   "id": "144b5bd7",
   "metadata": {},
   "outputs": [],
   "source": [
    "source_path"
   ]
  },
  {
   "cell_type": "code",
   "execution_count": null,
   "id": "a4351c90",
   "metadata": {},
   "outputs": [],
   "source": [
    "destination_path"
   ]
  },
  {
   "cell_type": "code",
   "execution_count": null,
   "id": "f06d3876",
   "metadata": {},
   "outputs": [],
   "source": [
    "for type in files_name.keys():\n",
    "    for file in files_train[type][0]:\n",
    "        shutil.copyfile(\n",
    "            os.path.join(source_path, f'{type}/{file}'),\n",
    "            os.path.join(destination_path, f'data_training/{type}/{file}')\n",
    "        )\n",
    "    for file in files_test[type][0]:\n",
    "        shutil.copyfile(\n",
    "            os.path.join(source_path, f'{type}/{file}'),\n",
    "            os.path.join(destination_path, f'data_testing/{type}/{file}')\n",
    "        )"
   ]
  }
 ],
 "metadata": {
  "kernelspec": {
   "display_name": "Python 3 (ipykernel)",
   "language": "python",
   "name": "python3"
  },
  "language_info": {
   "codemirror_mode": {
    "name": "ipython",
    "version": 3
   },
   "file_extension": ".py",
   "mimetype": "text/x-python",
   "name": "python",
   "nbconvert_exporter": "python",
   "pygments_lexer": "ipython3",
   "version": "3.10.7"
  }
 },
 "nbformat": 4,
 "nbformat_minor": 5
}
