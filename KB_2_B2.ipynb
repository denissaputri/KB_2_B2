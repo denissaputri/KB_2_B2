{
 "cells": [
  {
   "cell_type": "markdown",
   "id": "96bad58a",
   "metadata": {},
   "source": [
    "# KLASIFIKASI GAMBAR BURUNG"
   ]
  },
  {
   "cell_type": "markdown",
   "id": "fb495645",
   "metadata": {},
   "source": [
    "#### Kelompok 2 B2 2020 \n",
    "<li> dataset : "
   ]
  },
  {
   "cell_type": "code",
   "execution_count": 2,
   "id": "27fa862d",
   "metadata": {},
   "outputs": [],
   "source": [
    "import os \n",
    "import shutil \n",
    "import re\n",
    "import random \n",
    "import tensorflow \n",
    "import keras  \n",
    "import glob \n",
    "from skimage import io\n",
    "import numpy as np\n",
    "import matplotlib.pyplot as plt  \n",
    "%matplotlib inline\n",
    "\n",
    "import tensorflow as tf\n",
    "import matplotlib.pyplot as plt\n",
    "from keras_preprocessing.image import ImageDataGenerator\n",
    "from tensorflow.keras.models import Sequential\n",
    "from tensorflow.keras.layers import Conv2D, MaxPooling2D, Flatten, Dense"
   ]
  },
  {
   "cell_type": "markdown",
   "id": "99482497",
   "metadata": {},
   "source": [
    "## Preprocessing Data"
   ]
  },
  {
   "cell_type": "code",
   "execution_count": 5,
   "id": "34897b45",
   "metadata": {},
   "outputs": [],
   "source": [
    "root_path = r'D:\\KB\\PA_KB\\KB_2_B2-master\\dataset'\n",
    "source_path = os.path.join(root_path,'data gambar') #tempat dataset disimpan\n",
    "destination_path = os.path.join(root_path, 'data gambar fix')\n",
    "class_aves =['Order Anseriformes','Order Apodiformes', 'Order Apterygiformes']"
   ]
  },
  {
   "cell_type": "code",
   "execution_count": 6,
   "id": "40f66603",
   "metadata": {},
   "outputs": [
    {
     "data": {
      "text/plain": [
       "{'Order Anseriformes': 40,\n",
       " 'Order Apodiformes': 40,\n",
       " 'Order Apterygiformes': 40,\n",
       " 'Order Caprimulgiformes': 40,\n",
       " 'Order Casuariiformes': 40,\n",
       " 'Order Charadriiformes': 40,\n",
       " 'Order Ciconiiformes': 40,\n",
       " 'Order Coliiformes': 40,\n",
       " 'Order Columbiformes': 40,\n",
       " 'Order Coraciiformes': 40,\n",
       " 'Order Cuculiformes': 40,\n",
       " 'Order Falconiformes': 40,\n",
       " 'Order Galliformes': 40,\n",
       " 'Order Gaviiformes': 40,\n",
       " 'Order Gruiformes': 40,\n",
       " 'Order Passeriformes': 40,\n",
       " 'Order Pelecaniformes': 39,\n",
       " 'Order Phoenicopteriformes': 40,\n",
       " 'Order Piciformes': 40,\n",
       " 'Order Podicipediformes': 40,\n",
       " 'Order Procellariiformes': 40,\n",
       " 'Order Psittaciformes': 40,\n",
       " 'Order Pteroclidiformes': 40,\n",
       " 'Order Rheiformes': 40,\n",
       " 'Order Sphenisciformes': 40,\n",
       " 'Order Strigiformes': 40,\n",
       " 'Order Struthioniformes': 40,\n",
       " 'Order Tinamiformes': 40,\n",
       " 'Order Trogoniformes': 40,\n",
       " 'Order Turniciformes': 40}"
      ]
     },
     "execution_count": 6,
     "metadata": {},
     "output_type": "execute_result"
    }
   ],
   "source": [
    "#melihat banyak data gambar dlm folder\n",
    "folders = {}\n",
    "\n",
    "for folder in os.listdir(source_path):\n",
    "    folders[folder] = len(os.listdir(os.path.join(source_path,  folder)))\n",
    "\n",
    "folders"
   ]
  },
  {
   "cell_type": "code",
   "execution_count": 7,
   "id": "85b03db5",
   "metadata": {},
   "outputs": [
    {
     "name": "stdout",
     "output_type": "stream",
     "text": [
      "path D:\\KB\\PA_KB\\KB_2_B2-master\\dataset\\data gambar fix\\data_training sudah ada\n",
      "path D:\\KB\\PA_KB\\KB_2_B2-master\\dataset\\data gambar fix\\data_testing sudah ada\n"
     ]
    }
   ],
   "source": [
    "if os.path.isdir(os.path.join(destination_path, 'data_training')):\n",
    "    print(f\"path {os.path.join(destination_path, 'data_training')} sudah ada\")\n",
    "else:\n",
    "    os.makedirs(os.path.join(destination_path, 'data_training'))\n",
    "    for folder in folders.keys():\n",
    "        os.makedirs(os.path.join(destination_path, f'data_training/{folder}'))\n",
    "\n",
    "if os.path.isdir(os.path.join(destination_path, 'data_testing')):\n",
    "    print(f\"path {os.path.join(destination_path, 'data_testing')} sudah ada\")\n",
    "else:\n",
    "    os.makedirs(os.path.join(destination_path, 'data_testing'))\n",
    "    for folder in folders.keys():\n",
    "        os.makedirs(os.path.join(destination_path, f'data_testing/{folder}'))"
   ]
  },
  {
   "cell_type": "code",
   "execution_count": 8,
   "id": "85563f83",
   "metadata": {},
   "outputs": [],
   "source": [
    "aves_path = os.path.join(source_path,class_aves[1],'*')\n",
    "aves_path = glob.glob(aves_path)"
   ]
  },
  {
   "cell_type": "code",
   "execution_count": 9,
   "id": "4329ccb9",
   "metadata": {},
   "outputs": [],
   "source": [
    "# #Menampilkan gambar dari dataset\n",
    "# image = io.imread(aves_path[2])  \n",
    "\n",
    "# #memplot gambar original\n",
    "# i, (im1) = plt.subplots(1)\n",
    "# i.set_figwidth(15)\n",
    "# im1.imshow(image)"
   ]
  },
  {
   "cell_type": "code",
   "execution_count": 10,
   "id": "a5f557ab",
   "metadata": {},
   "outputs": [],
   "source": [
    "files_name = {\n",
    "     'Order Anseriformes': [],\n",
    "     'Order Apodiformes': [],\n",
    "     'Order Apterygiformes': [],\n",
    "     'Order Caprimulgiformes': [],\n",
    "     'Order Casuariiformes': [],\n",
    "     'Order Charadriiformes': [],\n",
    "     'Order Ciconiiformes': [],\n",
    "     'Order Coliiformes': [],\n",
    "     'Order Columbiformes': [],\n",
    "     'Order Coraciiformes': [],\n",
    "     'Order Cuculiformes': [],\n",
    "     'Order Falconiformes': [],\n",
    "     'Order Galliformes': [],\n",
    "     'Order Gaviiformes': [],\n",
    "     'Order Gruiformes': [],\n",
    "     'Order Passeriformes': [],\n",
    "     'Order Pelecaniformes': [],\n",
    "     'Order Phoenicopteriformes': [],\n",
    "     'Order Piciformes': [],\n",
    "     'Order Podicipediformes': [],\n",
    "     'Order Procellariiformes': [],\n",
    "     'Order Psittaciformes': [],\n",
    "     'Order Pteroclidiformes': [],\n",
    "     'Order Rheiformes': [],\n",
    "     'Order Sphenisciformes': [],\n",
    "     'Order Strigiformes': [],\n",
    "     'Order Struthioniformes': [],\n",
    "     'Order Tinamiformes': [],\n",
    "     'Order Trogoniformes': [],\n",
    "     'Order Turniciformes': [],\n",
    "}\n",
    "\n",
    "files_train = {\n",
    "        'Order Anseriformes': [],\n",
    "     'Order Apodiformes': [],\n",
    "     'Order Apterygiformes': [],\n",
    "     'Order Caprimulgiformes': [],\n",
    "     'Order Casuariiformes': [],\n",
    "     'Order Charadriiformes': [],\n",
    "     'Order Ciconiiformes': [],\n",
    "     'Order Coliiformes': [],\n",
    "     'Order Columbiformes': [],\n",
    "     'Order Coraciiformes': [],\n",
    "     'Order Cuculiformes': [],\n",
    "     'Order Falconiformes': [],\n",
    "     'Order Galliformes': [],\n",
    "     'Order Gaviiformes': [],\n",
    "     'Order Gruiformes': [],\n",
    "     'Order Passeriformes': [],\n",
    "     'Order Pelecaniformes': [],\n",
    "     'Order Phoenicopteriformes': [],\n",
    "     'Order Piciformes': [],\n",
    "     'Order Podicipediformes': [],\n",
    "     'Order Procellariiformes': [],\n",
    "     'Order Psittaciformes': [],\n",
    "     'Order Pteroclidiformes': [],\n",
    "     'Order Rheiformes': [],\n",
    "     'Order Sphenisciformes': [],\n",
    "     'Order Strigiformes': [],\n",
    "     'Order Struthioniformes': [],\n",
    "     'Order Tinamiformes': [],\n",
    "     'Order Trogoniformes': [],\n",
    "     'Order Turniciformes': [],\n",
    "}\n",
    "\n",
    "files_test = {\n",
    "     'Order Anseriformes': [],\n",
    "     'Order Apodiformes': [],\n",
    "     'Order Apterygiformes': [],\n",
    "     'Order Caprimulgiformes': [],\n",
    "     'Order Casuariiformes': [],\n",
    "     'Order Charadriiformes': [],\n",
    "     'Order Ciconiiformes': [],\n",
    "     'Order Coliiformes': [],\n",
    "     'Order Columbiformes': [],\n",
    "     'Order Coraciiformes': [],\n",
    "     'Order Cuculiformes': [],\n",
    "     'Order Falconiformes': [],\n",
    "     'Order Galliformes': [],\n",
    "     'Order Gaviiformes': [],\n",
    "     'Order Gruiformes': [],\n",
    "     'Order Passeriformes': [],\n",
    "     'Order Pelecaniformes': [],\n",
    "     'Order Phoenicopteriformes': [],\n",
    "     'Order Piciformes': [],\n",
    "     'Order Podicipediformes': [],\n",
    "     'Order Procellariiformes': [],\n",
    "     'Order Psittaciformes': [],\n",
    "     'Order Pteroclidiformes': [],\n",
    "     'Order Rheiformes': [],\n",
    "     'Order Sphenisciformes': [],\n",
    "     'Order Strigiformes': [],\n",
    "     'Order Struthioniformes': [],\n",
    "     'Order Tinamiformes': [],\n",
    "     'Order Trogoniformes': [],\n",
    "     'Order Turniciformes': [],\n",
    "}"
   ]
  },
  {
   "cell_type": "code",
   "execution_count": 11,
   "id": "ae466c22",
   "metadata": {},
   "outputs": [],
   "source": [
    "for type in files_name.keys():\n",
    "    for file in os.listdir(os.path.join(source_path, type)):\n",
    "        if os.path.getsize(os.path.join(source_path, f'{type}/{file}')):\n",
    "            files_name[type].append(file)\n",
    "        else:\n",
    "            print(f'{file} dilewatkan')"
   ]
  },
  {
   "cell_type": "code",
   "execution_count": 12,
   "id": "a84cd35f",
   "metadata": {},
   "outputs": [
    {
     "data": {
      "text/plain": [
       "40"
      ]
     },
     "execution_count": 12,
     "metadata": {},
     "output_type": "execute_result"
    }
   ],
   "source": [
    "#test melihat panjang sebuah folder \n",
    "len(files_name['Order Turniciformes'])"
   ]
  },
  {
   "cell_type": "code",
   "execution_count": 13,
   "id": "5950bbe0",
   "metadata": {},
   "outputs": [],
   "source": [
    "split_point = {\n",
    "     'Order Anseriformes': 0,\n",
    "     'Order Apodiformes': 0,\n",
    "     'Order Apterygiformes': 0,\n",
    "     'Order Caprimulgiformes': 0,\n",
    "     'Order Casuariiformes': 0,\n",
    "     'Order Charadriiformes': 0,\n",
    "     'Order Ciconiiformes': 0,\n",
    "     'Order Coliiformes': 0,\n",
    "     'Order Columbiformes': 0,\n",
    "     'Order Coraciiformes': 0,\n",
    "     'Order Cuculiformes': 0,\n",
    "     'Order Falconiformes': 0,\n",
    "     'Order Galliformes': 0,\n",
    "     'Order Gaviiformes': 0,\n",
    "     'Order Gruiformes': 0,\n",
    "     'Order Passeriformes': 0,\n",
    "     'Order Pelecaniformes': 0,\n",
    "     'Order Phoenicopteriformes': 0,\n",
    "     'Order Piciformes': 0,\n",
    "     'Order Podicipediformes': 0,\n",
    "     'Order Procellariiformes': 0,\n",
    "     'Order Psittaciformes': 0,\n",
    "     'Order Pteroclidiformes': 0,\n",
    "     'Order Rheiformes': 0,\n",
    "     'Order Sphenisciformes': 0,\n",
    "     'Order Strigiformes': 0,\n",
    "     'Order Struthioniformes': 0,\n",
    "     'Order Tinamiformes': 0,\n",
    "     'Order Trogoniformes': 0,\n",
    "     'Order Turniciformes': 0,\n",
    "}\n",
    "\n",
    "for key in split_point.keys():\n",
    "    split_point[key] = int(len(files_name[key])*.8)\n",
    "\n",
    "for key in files_train.keys():\n",
    "    files_train[key].append(files_name[key][:split_point[key]])\n",
    "    files_test[key].append(files_name[key][split_point[key]:])\n"
   ]
  },
  {
   "cell_type": "code",
   "execution_count": 14,
   "id": "b0436002",
   "metadata": {},
   "outputs": [
    {
     "data": {
      "text/plain": [
       "32"
      ]
     },
     "execution_count": 14,
     "metadata": {},
     "output_type": "execute_result"
    }
   ],
   "source": [
    "len(files_train['Order Anseriformes'][0])"
   ]
  },
  {
   "cell_type": "code",
   "execution_count": 15,
   "id": "846ac77e",
   "metadata": {},
   "outputs": [
    {
     "data": {
      "text/plain": [
       "8"
      ]
     },
     "execution_count": 15,
     "metadata": {},
     "output_type": "execute_result"
    }
   ],
   "source": [
    "len(files_test['Order Anseriformes'][0])"
   ]
  },
  {
   "cell_type": "code",
   "execution_count": 16,
   "id": "144b5bd7",
   "metadata": {},
   "outputs": [
    {
     "data": {
      "text/plain": [
       "'D:\\\\KB\\\\PA_KB\\\\KB_2_B2-master\\\\dataset\\\\data gambar'"
      ]
     },
     "execution_count": 16,
     "metadata": {},
     "output_type": "execute_result"
    }
   ],
   "source": [
    "source_path"
   ]
  },
  {
   "cell_type": "code",
   "execution_count": 17,
   "id": "a4351c90",
   "metadata": {},
   "outputs": [
    {
     "data": {
      "text/plain": [
       "'D:\\\\KB\\\\PA_KB\\\\KB_2_B2-master\\\\dataset\\\\data gambar fix'"
      ]
     },
     "execution_count": 17,
     "metadata": {},
     "output_type": "execute_result"
    }
   ],
   "source": [
    "destination_path"
   ]
  },
  {
   "cell_type": "code",
   "execution_count": 18,
   "id": "f06d3876",
   "metadata": {},
   "outputs": [],
   "source": [
    "for type in files_name.keys():\n",
    "    for file in files_train[type][0]:\n",
    "        shutil.copyfile(\n",
    "            os.path.join(source_path, f'{type}/{file}'),\n",
    "            os.path.join(destination_path, f'data_training/{type}/{file}')\n",
    "        )\n",
    "    for file in files_test[type][0]:\n",
    "        shutil.copyfile(\n",
    "            os.path.join(source_path, f'{type}/{file}'),\n",
    "            os.path.join(destination_path, f'data_testing/{type}/{file}')\n",
    "        )"
   ]
  },
  {
   "cell_type": "markdown",
   "id": "768e67ea",
   "metadata": {},
   "source": [
    "## Training & Modeling Data"
   ]
  },
  {
   "cell_type": "code",
   "execution_count": 52,
   "id": "1a116473",
   "metadata": {},
   "outputs": [],
   "source": [
    "# melakukan training dan validasi data generator dengan ImageDataGenerator\n",
    "\n",
    "train_generator = ImageDataGenerator(rescale=1/255,\n",
    "                               horizontal_flip=True,\n",
    "                               vertical_flip=True,\n",
    "                               rotation_range=60,\n",
    "                               zoom_range=0.5,\n",
    "                               fill_mode='nearest')\n",
    "\n",
    "val_generator = ImageDataGenerator(rescale=1/255,\n",
    "                               horizontal_flip=True,\n",
    "                               vertical_flip=True,\n",
    "                               rotation_range=60,\n",
    "                               zoom_range=0.5,\n",
    "                               fill_mode='nearest')"
   ]
  },
  {
   "cell_type": "code",
   "execution_count": 65,
   "id": "890aece5",
   "metadata": {},
   "outputs": [
    {
     "name": "stdout",
     "output_type": "stream",
     "text": [
      "Found 959 images belonging to 30 classes.\n",
      "Found 240 images belonging to 30 classes.\n"
     ]
    }
   ],
   "source": [
    "# melakukan training data generator dengan folder training dan validasi data dengan folder testing\n",
    "\n",
    "train_data = train_generator.flow_from_directory('D:\\KB\\PA_KB\\KB_2_B2-master\\dataset\\data gambar fix\\data_training',\n",
    "                                             target_size=(150, 150),\n",
    "                                             batch_size=30,\n",
    "                                             class_mode='categorical')\n",
    "\n",
    "val_data = val_generator.flow_from_directory('D:\\KB\\PA_KB\\KB_2_B2-master\\dataset\\data gambar fix\\data_testing',\n",
    "                                             target_size=(150, 150),\n",
    "                                             batch_size=30,\n",
    "                                             class_mode='categorical')"
   ]
  },
  {
   "cell_type": "code",
   "execution_count": 75,
   "id": "074affbd",
   "metadata": {},
   "outputs": [],
   "source": [
    "# melakukan modeling data pada data testing dan training\n",
    "\n",
    "model_data = tf.keras.Sequential([\n",
    "    tf.keras.layers.Conv2D(128, (3,3), activation='relu', input_shape=(150, 150, 3)),\n",
    "    MaxPooling2D(2,2),\n",
    "    Conv2D(64, (3,3), activation='relu'),\n",
    "    MaxPooling2D(2,2),\n",
    "    Conv2D(32, (3,3), activation='relu'),\n",
    "    MaxPooling2D(2,2),\n",
    "    Flatten(),\n",
    "    Dense(128, activation='relu'),\n",
    "    Dense(30, activation='softmax')\n",
    "])"
   ]
  },
  {
   "cell_type": "code",
   "execution_count": 76,
   "id": "581d5464",
   "metadata": {},
   "outputs": [
    {
     "name": "stdout",
     "output_type": "stream",
     "text": [
      "Model: \"sequential_5\"\n",
      "_________________________________________________________________\n",
      " Layer (type)                Output Shape              Param #   \n",
      "=================================================================\n",
      " conv2d_15 (Conv2D)          (None, 148, 148, 128)     3584      \n",
      "                                                                 \n",
      " max_pooling2d_15 (MaxPoolin  (None, 74, 74, 128)      0         \n",
      " g2D)                                                            \n",
      "                                                                 \n",
      " conv2d_16 (Conv2D)          (None, 72, 72, 64)        73792     \n",
      "                                                                 \n",
      " max_pooling2d_16 (MaxPoolin  (None, 36, 36, 64)       0         \n",
      " g2D)                                                            \n",
      "                                                                 \n",
      " conv2d_17 (Conv2D)          (None, 34, 34, 32)        18464     \n",
      "                                                                 \n",
      " max_pooling2d_17 (MaxPoolin  (None, 17, 17, 32)       0         \n",
      " g2D)                                                            \n",
      "                                                                 \n",
      " flatten_5 (Flatten)         (None, 9248)              0         \n",
      "                                                                 \n",
      " dense_10 (Dense)            (None, 128)               1183872   \n",
      "                                                                 \n",
      " dense_11 (Dense)            (None, 30)                3870      \n",
      "                                                                 \n",
      "=================================================================\n",
      "Total params: 1,283,582\n",
      "Trainable params: 1,283,582\n",
      "Non-trainable params: 0\n",
      "_________________________________________________________________\n"
     ]
    }
   ],
   "source": [
    "model_data.summary()"
   ]
  },
  {
   "cell_type": "code",
   "execution_count": 77,
   "id": "9ea0870e",
   "metadata": {},
   "outputs": [],
   "source": [
    "# melakukan compile data\n",
    "\n",
    "model_data.compile(optimizer=tf.keras.optimizers.RMSprop(learning_rate=1e-4),\n",
    "                   loss='categorical_crossentropy', \n",
    "                   metrics=['accuracy'])\n",
    "#                   run_eagerly=True)"
   ]
  },
  {
   "cell_type": "code",
   "execution_count": 78,
   "id": "ec92ceea",
   "metadata": {
    "scrolled": false
   },
   "outputs": [
    {
     "name": "stdout",
     "output_type": "stream",
     "text": [
      "Epoch 1/10\n",
      "32/32 - 96s - loss: 3.4028 - accuracy: 0.0396 - val_loss: 3.3878 - val_accuracy: 0.0417 - 96s/epoch - 3s/step\n",
      "Epoch 2/10\n",
      "32/32 - 89s - loss: 3.3524 - accuracy: 0.0615 - val_loss: 3.3720 - val_accuracy: 0.0500 - 89s/epoch - 3s/step\n",
      "Epoch 3/10\n",
      "32/32 - 90s - loss: 3.3119 - accuracy: 0.0678 - val_loss: 3.3567 - val_accuracy: 0.0417 - 90s/epoch - 3s/step\n",
      "Epoch 4/10\n",
      "32/32 - 97s - loss: 3.2863 - accuracy: 0.0688 - val_loss: 3.3377 - val_accuracy: 0.0708 - 97s/epoch - 3s/step\n",
      "Epoch 5/10\n",
      "32/32 - 63s - loss: 3.2515 - accuracy: 0.0803 - val_loss: 3.3319 - val_accuracy: 0.0708 - 63s/epoch - 2s/step\n",
      "Epoch 6/10\n",
      "32/32 - 80s - loss: 3.2401 - accuracy: 0.0834 - val_loss: 3.3143 - val_accuracy: 0.0625 - 80s/epoch - 3s/step\n",
      "Epoch 7/10\n",
      "32/32 - 152s - loss: 3.1984 - accuracy: 0.0897 - val_loss: 3.3182 - val_accuracy: 0.0667 - 152s/epoch - 5s/step\n",
      "Epoch 8/10\n",
      "32/32 - 136s - loss: 3.1847 - accuracy: 0.0938 - val_loss: 3.2788 - val_accuracy: 0.0875 - 136s/epoch - 4s/step\n",
      "Epoch 9/10\n",
      "32/32 - 135s - loss: 3.1544 - accuracy: 0.1105 - val_loss: 3.2843 - val_accuracy: 0.0625 - 135s/epoch - 4s/step\n",
      "Epoch 10/10\n",
      "32/32 - 181s - loss: 3.1351 - accuracy: 0.1105 - val_loss: 3.2702 - val_accuracy: 0.1125 - 181s/epoch - 6s/step\n"
     ]
    }
   ],
   "source": [
    "# melakukan training model\n",
    "\n",
    "history = model_data.fit(train_data,                    \n",
    "                    epochs=10,\n",
    "                    validation_data=val_data,                    \n",
    "                    verbose=2)"
   ]
  },
  {
   "cell_type": "code",
   "execution_count": 81,
   "id": "9fc83531",
   "metadata": {},
   "outputs": [],
   "source": [
    "y_train = history.history['accuracy']\n",
    "y_val = history.history['val_accuracy']\n",
    "\n",
    "train_y = history.history['loss']\n",
    "val_y = history.history['val_loss']\n",
    "x = range(len(y_train))"
   ]
  },
  {
   "cell_type": "code",
   "execution_count": 82,
   "id": "52229ab6",
   "metadata": {},
   "outputs": [
    {
     "data": {
      "image/png": "[encoded data removed]",
      "text/plain": [
       "<Figure size 360x288 with 1 Axes>"
      ]
     },
     "metadata": {
      "needs_background": "light"
     },
     "output_type": "display_data"
    },
    {
     "data": {
      "image/png": "[encoded data removed]",
      "text/plain": [
       "<Figure size 360x288 with 1 Axes>"
      ]
     },
     "metadata": {
      "needs_background": "light"
     },
     "output_type": "display_data"
    }
   ],
   "source": [
    "# plot perubahan nilai loss dan akurasi\n",
    "\n",
    "plt.figure(1, figsize=(5,4))\n",
    "plt.plot(x, y_train, c='r', label='training')\n",
    "plt.plot(x, y_val, c='b', label='validation')\n",
    "plt.legend()\n",
    "plt.xlabel('epochs')\n",
    "plt.ylabel('akurasi')\n",
    "plt.title('akurasi')\n",
    "\n",
    "plt.figure(2, figsize=(5,4))\n",
    "plt.plot(x, train_y, c='r', label='training')\n",
    "plt.plot(x, val_y, c='b', label='validation')\n",
    "plt.legend()\n",
    "plt.xlabel('epochs')\n",
    "plt.ylabel('loss')\n",
    "plt.title('loss')\n",
    "\n",
    "plt.show()"
   ]
  }
 ],
 "metadata": {
  "kernelspec": {
   "display_name": "Python 3",
   "language": "python",
   "name": "python3"
  },
  "language_info": {
   "codemirror_mode": {
    "name": "ipython",
    "version": 3
   },
   "file_extension": ".py",
   "mimetype": "text/x-python",
   "name": "python",
   "nbconvert_exporter": "python",
   "pygments_lexer": "ipython3",
   "version": "3.10.7"
  }
 },
 "nbformat": 4,
 "nbformat_minor": 5
}
